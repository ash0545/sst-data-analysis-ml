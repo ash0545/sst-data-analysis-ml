{
 "cells": [
  {
   "cell_type": "code",
   "execution_count": 1,
   "id": "bd6befa6-4c58-485e-ba81-12fe2ad30ac9",
   "metadata": {
    "tags": []
   },
   "outputs": [],
   "source": [
    "import os\n",
    "import xarray as xr\n",
    "import matplotlib.pyplot as plt\n",
    "from PIL import Image"
   ]
  },
  {
   "cell_type": "code",
   "execution_count": 2,
   "id": "c8ee2e87-229d-44d9-a681-7c49c100ece5",
   "metadata": {
    "tags": []
   },
   "outputs": [],
   "source": [
    "in_folder = 'data/final_sliced_1/'\n",
    "out_folder = 'data/final_sliced_1(images)/'\n",
    "files = [f for f in os.listdir(in_folder)]"
   ]
  },
  {
   "cell_type": "markdown",
   "id": "a1bf0d4a-927d-4f7c-bb0e-242ac66067bf",
   "metadata": {},
   "source": [
    "### Converting plots to image files"
   ]
  },
  {
   "cell_type": "code",
   "execution_count": 3,
   "id": "58b3f1ed-9c7d-445e-837b-93da38378492",
   "metadata": {
    "tags": []
   },
   "outputs": [],
   "source": [
    "for file in files:\n",
    "    with xr.open_dataset(os.path.join(in_folder, file)) as ds:\n",
    "        plt.figure()\n",
    "        ds[\"analysed_sst\"].plot()\n",
    "        plt.title(f'{file}')\n",
    "        \n",
    "        image_file = os.path.join(out_folder, f'{file}.png')\n",
    "        plt.savefig(image_file)\n",
    "        plt.close()"
   ]
  },
  {
   "cell_type": "markdown",
   "id": "f7a2e119-a0c9-407d-a046-c03eac792df6",
   "metadata": {},
   "source": [
    "### Saving as a .gif file"
   ]
  },
  {
   "cell_type": "code",
   "execution_count": 4,
   "id": "4a7c441b-9e70-4ee3-9ea9-bf26130c4d59",
   "metadata": {
    "tags": []
   },
   "outputs": [],
   "source": [
    "images = [Image.open(os.path.join(out_folder, image)) for image in os.listdir(out_folder)]\n",
    "images[0].save('sst_animation.gif', save_all=True, append_images=images[1:], duration=500, loop=0)"
   ]
  },
  {
   "cell_type": "code",
   "execution_count": null,
   "id": "ef13a2e1-0612-42a9-aae0-32c627b67bab",
   "metadata": {},
   "outputs": [],
   "source": []
  }
 ],
 "metadata": {
  "kernelspec": {
   "display_name": "Python 3 (ipykernel)",
   "language": "python",
   "name": "python3"
  },
  "language_info": {
   "codemirror_mode": {
    "name": "ipython",
    "version": 3
   },
   "file_extension": ".py",
   "mimetype": "text/x-python",
   "name": "python",
   "nbconvert_exporter": "python",
   "pygments_lexer": "ipython3",
   "version": "3.11.4"
  }
 },
 "nbformat": 4,
 "nbformat_minor": 5
}
